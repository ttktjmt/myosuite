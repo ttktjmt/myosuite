{
  "cells": [
    {
      "cell_type": "markdown",
      "metadata": {
        "id": "FKI36id9fex7"
      },
      "source": [
        "```py\n",
        "env = 'myoChallengeBimanual-v0' or 'myoChallengeRunTrackP1-v0'\n",
        "```"
      ]
    },
    {
      "cell_type": "code",
      "execution_count": null,
      "metadata": {},
      "outputs": [],
      "source": [
        "import myosuite\n",
        "print(f\"version: {myosuite.__version__}\")"
      ]
    },
    {
      "cell_type": "markdown",
      "metadata": {
        "id": "Yjyafsum6WsQ"
      },
      "source": [
        "# 1. Install Dependencies & Define Functions"
      ]
    },
    {
      "cell_type": "code",
      "execution_count": 1,
      "metadata": {
        "colab": {
          "base_uri": "https://localhost:8080/"
        },
        "id": "exBCwdGj6PJj",
        "outputId": "0389c579-4121-4402-f507-0b2dc891db6a"
      },
      "outputs": [
        {
          "name": "stdout",
          "output_type": "stream",
          "text": [
            "Requirement already satisfied: opencv-python-headless in ./venv/lib/python3.10/site-packages (4.10.0.84)\n",
            "Requirement already satisfied: numpy>=1.17.0 in ./venv/lib/python3.10/site-packages (from opencv-python-headless) (1.26.4)\n"
          ]
        }
      ],
      "source": [
        "# !pip install myosuite==2.5.0 --quiet\n",
        "!pip install \"stable-baselines3[extra]\" --quiet\n",
        "!pip install tqdm --quiet\n",
        "!pip install mujoco==3.1.2 --quiet\n",
        "!pip install sk-video --quiet\n",
        "!pip install torch --quiet\n",
        "!pip install opencv-python-headless\n",
        "# %env MUJOCO_GL=egl"
      ]
    },
    {
      "cell_type": "code",
      "execution_count": 2,
      "metadata": {
        "id": "Wb-GGQ0bcxDq"
      },
      "outputs": [
        {
          "name": "stdout",
          "output_type": "stream",
          "text": [
            "pygame 2.6.0 (SDL 2.28.4, Python 3.10.12)\n",
            "Hello from the pygame community. https://www.pygame.org/contribute.html\n",
            "MyoSuite:> Registering Myo Envs\n"
          ]
        },
        {
          "name": "stderr",
          "output_type": "stream",
          "text": [
            "/home/ta747375ki/myosuite/venv/lib/python3.10/site-packages/gymnasium/envs/registration.py:596: UserWarning: \u001b[33mWARN: plugin: shimmy.registration:register_gymnasium_envs raised Traceback (most recent call last):\n",
            "  File \"/home/ta747375ki/myosuite/venv/lib/python3.10/site-packages/gymnasium/envs/registration.py\", line 594, in load_plugin_envs\n",
            "    fn()\n",
            "  File \"/home/ta747375ki/myosuite/venv/lib/python3.10/site-packages/shimmy/registration.py\", line 303, in register_gymnasium_envs\n",
            "    _register_dm_control_envs()\n",
            "  File \"/home/ta747375ki/myosuite/venv/lib/python3.10/site-packages/shimmy/registration.py\", line 63, in _register_dm_control_envs\n",
            "    from shimmy.dm_control_compatibility import DmControlCompatibilityV0\n",
            "  File \"/home/ta747375ki/myosuite/venv/lib/python3.10/site-packages/shimmy/dm_control_compatibility.py\", line 20, in <module>\n",
            "    from gymnasium.envs.mujoco.mujoco_rendering import MujocoRenderer\n",
            "  File \"/home/ta747375ki/myosuite/venv/lib/python3.10/site-packages/gymnasium/envs/mujoco/mujoco_rendering.py\", line 7, in <module>\n",
            "    import imageio\n",
            "ModuleNotFoundError: No module named 'imageio'\n",
            "\u001b[0m\n",
            "  logger.warn(f\"plugin: {plugin.value} raised {traceback.format_exc()}\")\n"
          ]
        }
      ],
      "source": [
        "import os\n",
        "import time\n",
        "from datetime import datetime\n",
        "import numpy as np\n",
        "from tqdm import tqdm_notebook as tqdm\n",
        "from IPython.display import HTML\n",
        "from base64 import b64encode\n",
        "import skvideo.io\n",
        "import cv2\n",
        "\n",
        "import mujoco\n",
        "import myosuite\n",
        "from myosuite.utils import gym\n",
        "import torch\n",
        "from stable_baselines3 import PPO, SAC\n",
        "from stable_baselines3.common.vec_env import SubprocVecEnv, DummyVecEnv # SubprocVecEnv is for pararrrel processing, DummyVecEnv is for sequential processing\n",
        "from stable_baselines3.common.callbacks import EvalCallback, CallbackList, BaseCallback, CheckpointCallback, StopTrainingOnRewardThreshold\n",
        "from stable_baselines3.common.monitor import Monitor\n",
        "from stable_baselines3.common.logger import configure"
      ]
    },
    {
      "cell_type": "code",
      "execution_count": 3,
      "metadata": {
        "id": "4o4eknDN6bie"
      },
      "outputs": [],
      "source": [
        "def show_video(video_path, video_width = 400):\n",
        "    video_file = open(video_path, \"r+b\").read()\n",
        "    video_url = f\"data:video/mp4;base64,{b64encode(video_file).decode()}\"\n",
        "    return HTML(f\"\"\"<video autoplay width={video_width} controls><source src=\"{video_url}\"></video>\"\"\")\n",
        "\n",
        "def make_env(env_name, idx, seed=0):\n",
        "    def _init():\n",
        "        env = gym.make(env_name)\n",
        "        env.seed(seed + idx)\n",
        "        return env\n",
        "    return _init"
      ]
    },
    {
      "cell_type": "markdown",
      "metadata": {
        "id": "PT_Z5uTMiUyE"
      },
      "source": [
        "# 2. Train Model"
      ]
    },
    {
      "cell_type": "markdown",
      "metadata": {
        "id": "fpRPJLbMiZgM"
      },
      "source": [
        "## 2.A. PPO"
      ]
    },
    {
      "cell_type": "code",
      "execution_count": 4,
      "metadata": {
        "colab": {
          "base_uri": "https://localhost:8080/",
          "height": 428
        },
        "id": "Mv4WEyLN9eTU",
        "outputId": "8a25d176-dbf8-47c8-ebde-d884974e5a9e"
      },
      "outputs": [
        {
          "name": "stdout",
          "output_type": "stream",
          "text": [
            "False\n",
            "\u001b[36m    MyoSuite: A contact-rich simulation suite for musculoskeletal motor control\n",
            "        Vittorio Caggiano, Huawei Wang, Guillaume Durandau, Massimo Sartori, Vikash Kumar\n",
            "        L4DC-2019 | https://sites.google.com/view/myosuite\n",
            "    \u001b[0m\n"
          ]
        },
        {
          "name": "stderr",
          "output_type": "stream",
          "text": [
            "/home/ta747375ki/myosuite/venv/lib/python3.10/site-packages/gymnasium/core.py:311: UserWarning: \u001b[33mWARN: env.seed to get variables from other wrappers is deprecated and will be removed in v1.0, to get this variable you can do `env.unwrapped.seed` for environment variables or `env.get_wrapper_attr('seed')` that will search the reminding wrappers.\u001b[0m\n",
            "  logger.warn(\n"
          ]
        },
        {
          "name": "stdout",
          "output_type": "stream",
          "text": [
            "Begin training\n"
          ]
        },
        {
          "name": "stderr",
          "output_type": "stream",
          "text": [
            "/home/ta747375ki/myosuite/venv/lib/python3.10/site-packages/gymnasium/utils/passive_env_checker.py:159: UserWarning: \u001b[33mWARN: The obs returned by the `step()` method is not within the observation space.\u001b[0m\n",
            "  logger.warn(f\"{pre} is not within the observation space.\")\n",
            "/home/ta747375ki/myosuite/venv/lib/python3.10/site-packages/stable_baselines3/common/evaluation.py:67: UserWarning: Evaluation environment is not wrapped with a ``Monitor`` wrapper. This may result in reporting modified episode lengths and rewards, if other wrappers happen to modify these. Consider wrapping environment first with ``Monitor`` wrapper.\n",
            "  warnings.warn(\n"
          ]
        },
        {
          "name": "stdout",
          "output_type": "stream",
          "text": [
            "Eval num_timesteps=40000, episode_reward=-70.77 +/- 121.24\n",
            "Episode length: 250.00 +/- 0.00\n",
            "New best mean reward!\n",
            "Eval num_timesteps=80000, episode_reward=-15.00 +/- 314.86\n",
            "Episode length: 250.00 +/- 0.00\n",
            "New best mean reward!\n"
          ]
        },
        {
          "data": {
            "text/plain": [
              "<stable_baselines3.ppo.ppo.PPO at 0x7f376594ffa0>"
            ]
          },
          "execution_count": 4,
          "metadata": {},
          "output_type": "execute_result"
        }
      ],
      "source": [
        "device = torch.device('cuda' if torch.cuda.is_available() else 'cpu')\n",
        "print(f\"using {device}\")\n",
        "\n",
        "\n",
        "# Using time to define the unique naming\n",
        "start_time = time.time()\n",
        "time_now = datetime.now().strftime(\"%Y_%m_%d_%H_%M_%S\")\n",
        "\n",
        "# Initiate N parallel envs and create them\n",
        "num_cpu = 4\n",
        "env_name = 'myoChallengeBimanual-v0'\n",
        "envs = DummyVecEnv([make_env(env_name, i) for i in range(num_cpu)]) # This creates all envs in RAM\n",
        "\n",
        "# Define your own log path\n",
        "log_path = './MPL_baselines/policy_best_model/' + env_name + '/' + time_now + '/'\n",
        "\n",
        "# Define how frequent you want to evaluate the model, where it is logged\n",
        "eval_callback = EvalCallback(envs, best_model_save_path=log_path, log_path=log_path, eval_freq=10000, deterministic=True, render=False)\n",
        "\n",
        "print('Begin training')\n",
        "\n",
        "# Define your policy parameters based on your need.\n",
        "policy_kwargs = {\n",
        "'activation_fn': torch.nn.modules.activation.ReLU,\n",
        "'net_arch': {'pi': [256, 256], 'vf': [256, 256]}\n",
        "}\n",
        "\n",
        "#start the training with PPO\n",
        "model = PPO('MlpPolicy', envs, verbose=0, ent_coef= 0.001, policy_kwargs =policy_kwargs, device=device, batch_size=512)\n",
        "callback = CallbackList([eval_callback])\n",
        "model.learn(total_timesteps=100000, tb_log_name=env_name + \"_\" + time_now, callback=callback)"
      ]
    },
    {
      "cell_type": "markdown",
      "metadata": {},
      "source": [
        "# Visualize"
      ]
    },
    {
      "cell_type": "code",
      "execution_count": null,
      "metadata": {},
      "outputs": [],
      "source": [
        "# Render trained policy\n",
        "frames = []\n",
        "env = gym.make(env_name)\n",
        "for _ in range(5): # 5 random targets\n",
        "    print(\"\\n*\")\n",
        "    env.reset()\n",
        "    ep_rewards = []\n",
        "    done = False\n",
        "    obs = env.reset()\n",
        "    for i in range(1, 201):\n",
        "        if i%10 == 0: print(\"=\", end=\"\")\n",
        "        obs = env.obsdict2obsvec(env.obs_dict, env.obs_keys)[1]\n",
        "        # get the next action from the policy\n",
        "        action, _ = model.predict(obs, deterministic=True)\n",
        "        geom_1_indices = np.where(env.sim.model.geom_group == 1)\n",
        "        env.sim.model.geom_rgba[geom_1_indices, 3] = 0\n",
        "        frame = env.sim.renderer.render_offscreen(\n",
        "                            width=800,\n",
        "                            height=800,\n",
        "                            camera_id=1)\n",
        "        frames.append(frame)\n",
        "        # take an action based on the current observation\n",
        "        obs, reward, done, info, _ = env.step(action)\n",
        "\n",
        "env.close()"
      ]
    }
  ],
  "metadata": {
    "colab": {
      "provenance": []
    },
    "kernelspec": {
      "display_name": "Python 3",
      "name": "python3"
    },
    "language_info": {
      "codemirror_mode": {
        "name": "ipython",
        "version": 3
      },
      "file_extension": ".py",
      "mimetype": "text/x-python",
      "name": "python",
      "nbconvert_exporter": "python",
      "pygments_lexer": "ipython3",
      "version": "3.10.12"
    },
    "widgets": {
      "application/vnd.jupyter.widget-state+json": {
        "3ab06a9418a54a4a8c73300e56abb6a1": {
          "model_module": "@jupyter-widgets/base",
          "model_module_version": "1.2.0",
          "model_name": "LayoutModel",
          "state": {
            "_model_module": "@jupyter-widgets/base",
            "_model_module_version": "1.2.0",
            "_model_name": "LayoutModel",
            "_view_count": null,
            "_view_module": "@jupyter-widgets/base",
            "_view_module_version": "1.2.0",
            "_view_name": "LayoutView",
            "align_content": null,
            "align_items": null,
            "align_self": null,
            "border": null,
            "bottom": null,
            "display": null,
            "flex": null,
            "flex_flow": null,
            "grid_area": null,
            "grid_auto_columns": null,
            "grid_auto_flow": null,
            "grid_auto_rows": null,
            "grid_column": null,
            "grid_gap": null,
            "grid_row": null,
            "grid_template_areas": null,
            "grid_template_columns": null,
            "grid_template_rows": null,
            "height": null,
            "justify_content": null,
            "justify_items": null,
            "left": null,
            "margin": null,
            "max_height": null,
            "max_width": null,
            "min_height": null,
            "min_width": null,
            "object_fit": null,
            "object_position": null,
            "order": null,
            "overflow": null,
            "overflow_x": null,
            "overflow_y": null,
            "padding": null,
            "right": null,
            "top": null,
            "visibility": null,
            "width": null
          }
        },
        "4316ec1b048b491e9956f64cc95bc9d3": {
          "model_module": "@jupyter-widgets/controls",
          "model_module_version": "1.5.0",
          "model_name": "DescriptionStyleModel",
          "state": {
            "_model_module": "@jupyter-widgets/controls",
            "_model_module_version": "1.5.0",
            "_model_name": "DescriptionStyleModel",
            "_view_count": null,
            "_view_module": "@jupyter-widgets/base",
            "_view_module_version": "1.2.0",
            "_view_name": "StyleView",
            "description_width": ""
          }
        },
        "6a5deca06be7433ab1b61b0dd15e96ed": {
          "model_module": "@jupyter-widgets/controls",
          "model_module_version": "1.5.0",
          "model_name": "ProgressStyleModel",
          "state": {
            "_model_module": "@jupyter-widgets/controls",
            "_model_module_version": "1.5.0",
            "_model_name": "ProgressStyleModel",
            "_view_count": null,
            "_view_module": "@jupyter-widgets/base",
            "_view_module_version": "1.2.0",
            "_view_name": "StyleView",
            "bar_color": null,
            "description_width": ""
          }
        },
        "7c8fdadec05e4d658b2c3f27f5b80e31": {
          "model_module": "@jupyter-widgets/controls",
          "model_module_version": "1.5.0",
          "model_name": "HBoxModel",
          "state": {
            "_dom_classes": [],
            "_model_module": "@jupyter-widgets/controls",
            "_model_module_version": "1.5.0",
            "_model_name": "HBoxModel",
            "_view_count": null,
            "_view_module": "@jupyter-widgets/controls",
            "_view_module_version": "1.5.0",
            "_view_name": "HBoxView",
            "box_style": "",
            "children": [
              "IPY_MODEL_cbdb437d589e4699be29a307b89eb138",
              "IPY_MODEL_b45dd8280fb947f2911a7520c3414101",
              "IPY_MODEL_e33397c61e314f2f9c04392e3bc77d56"
            ],
            "layout": "IPY_MODEL_f68eb661afa843f18a6ec9bbd29d5856"
          }
        },
        "b45dd8280fb947f2911a7520c3414101": {
          "model_module": "@jupyter-widgets/controls",
          "model_module_version": "1.5.0",
          "model_name": "FloatProgressModel",
          "state": {
            "_dom_classes": [],
            "_model_module": "@jupyter-widgets/controls",
            "_model_module_version": "1.5.0",
            "_model_name": "FloatProgressModel",
            "_view_count": null,
            "_view_module": "@jupyter-widgets/controls",
            "_view_module_version": "1.5.0",
            "_view_name": "ProgressView",
            "bar_style": "success",
            "description": "",
            "description_tooltip": null,
            "layout": "IPY_MODEL_b85ed15f7b6c435bb87449cd674655e4",
            "max": 5,
            "min": 0,
            "orientation": "horizontal",
            "style": "IPY_MODEL_6a5deca06be7433ab1b61b0dd15e96ed",
            "value": 5
          }
        },
        "b85ed15f7b6c435bb87449cd674655e4": {
          "model_module": "@jupyter-widgets/base",
          "model_module_version": "1.2.0",
          "model_name": "LayoutModel",
          "state": {
            "_model_module": "@jupyter-widgets/base",
            "_model_module_version": "1.2.0",
            "_model_name": "LayoutModel",
            "_view_count": null,
            "_view_module": "@jupyter-widgets/base",
            "_view_module_version": "1.2.0",
            "_view_name": "LayoutView",
            "align_content": null,
            "align_items": null,
            "align_self": null,
            "border": null,
            "bottom": null,
            "display": null,
            "flex": null,
            "flex_flow": null,
            "grid_area": null,
            "grid_auto_columns": null,
            "grid_auto_flow": null,
            "grid_auto_rows": null,
            "grid_column": null,
            "grid_gap": null,
            "grid_row": null,
            "grid_template_areas": null,
            "grid_template_columns": null,
            "grid_template_rows": null,
            "height": null,
            "justify_content": null,
            "justify_items": null,
            "left": null,
            "margin": null,
            "max_height": null,
            "max_width": null,
            "min_height": null,
            "min_width": null,
            "object_fit": null,
            "object_position": null,
            "order": null,
            "overflow": null,
            "overflow_x": null,
            "overflow_y": null,
            "padding": null,
            "right": null,
            "top": null,
            "visibility": null,
            "width": null
          }
        },
        "cbdb437d589e4699be29a307b89eb138": {
          "model_module": "@jupyter-widgets/controls",
          "model_module_version": "1.5.0",
          "model_name": "HTMLModel",
          "state": {
            "_dom_classes": [],
            "_model_module": "@jupyter-widgets/controls",
            "_model_module_version": "1.5.0",
            "_model_name": "HTMLModel",
            "_view_count": null,
            "_view_module": "@jupyter-widgets/controls",
            "_view_module_version": "1.5.0",
            "_view_name": "HTMLView",
            "description": "",
            "description_tooltip": null,
            "layout": "IPY_MODEL_e884c3c392ee4031a541b11babfb29e7",
            "placeholder": "​",
            "style": "IPY_MODEL_e3f8b334eef4499f9f33970e12f0123b",
            "value": "100%"
          }
        },
        "e33397c61e314f2f9c04392e3bc77d56": {
          "model_module": "@jupyter-widgets/controls",
          "model_module_version": "1.5.0",
          "model_name": "HTMLModel",
          "state": {
            "_dom_classes": [],
            "_model_module": "@jupyter-widgets/controls",
            "_model_module_version": "1.5.0",
            "_model_name": "HTMLModel",
            "_view_count": null,
            "_view_module": "@jupyter-widgets/controls",
            "_view_module_version": "1.5.0",
            "_view_name": "HTMLView",
            "description": "",
            "description_tooltip": null,
            "layout": "IPY_MODEL_3ab06a9418a54a4a8c73300e56abb6a1",
            "placeholder": "​",
            "style": "IPY_MODEL_4316ec1b048b491e9956f64cc95bc9d3",
            "value": " 5/5 [30:20&lt;00:00, 364.54s/it]"
          }
        },
        "e3f8b334eef4499f9f33970e12f0123b": {
          "model_module": "@jupyter-widgets/controls",
          "model_module_version": "1.5.0",
          "model_name": "DescriptionStyleModel",
          "state": {
            "_model_module": "@jupyter-widgets/controls",
            "_model_module_version": "1.5.0",
            "_model_name": "DescriptionStyleModel",
            "_view_count": null,
            "_view_module": "@jupyter-widgets/base",
            "_view_module_version": "1.2.0",
            "_view_name": "StyleView",
            "description_width": ""
          }
        },
        "e884c3c392ee4031a541b11babfb29e7": {
          "model_module": "@jupyter-widgets/base",
          "model_module_version": "1.2.0",
          "model_name": "LayoutModel",
          "state": {
            "_model_module": "@jupyter-widgets/base",
            "_model_module_version": "1.2.0",
            "_model_name": "LayoutModel",
            "_view_count": null,
            "_view_module": "@jupyter-widgets/base",
            "_view_module_version": "1.2.0",
            "_view_name": "LayoutView",
            "align_content": null,
            "align_items": null,
            "align_self": null,
            "border": null,
            "bottom": null,
            "display": null,
            "flex": null,
            "flex_flow": null,
            "grid_area": null,
            "grid_auto_columns": null,
            "grid_auto_flow": null,
            "grid_auto_rows": null,
            "grid_column": null,
            "grid_gap": null,
            "grid_row": null,
            "grid_template_areas": null,
            "grid_template_columns": null,
            "grid_template_rows": null,
            "height": null,
            "justify_content": null,
            "justify_items": null,
            "left": null,
            "margin": null,
            "max_height": null,
            "max_width": null,
            "min_height": null,
            "min_width": null,
            "object_fit": null,
            "object_position": null,
            "order": null,
            "overflow": null,
            "overflow_x": null,
            "overflow_y": null,
            "padding": null,
            "right": null,
            "top": null,
            "visibility": null,
            "width": null
          }
        },
        "f68eb661afa843f18a6ec9bbd29d5856": {
          "model_module": "@jupyter-widgets/base",
          "model_module_version": "1.2.0",
          "model_name": "LayoutModel",
          "state": {
            "_model_module": "@jupyter-widgets/base",
            "_model_module_version": "1.2.0",
            "_model_name": "LayoutModel",
            "_view_count": null,
            "_view_module": "@jupyter-widgets/base",
            "_view_module_version": "1.2.0",
            "_view_name": "LayoutView",
            "align_content": null,
            "align_items": null,
            "align_self": null,
            "border": null,
            "bottom": null,
            "display": null,
            "flex": null,
            "flex_flow": null,
            "grid_area": null,
            "grid_auto_columns": null,
            "grid_auto_flow": null,
            "grid_auto_rows": null,
            "grid_column": null,
            "grid_gap": null,
            "grid_row": null,
            "grid_template_areas": null,
            "grid_template_columns": null,
            "grid_template_rows": null,
            "height": null,
            "justify_content": null,
            "justify_items": null,
            "left": null,
            "margin": null,
            "max_height": null,
            "max_width": null,
            "min_height": null,
            "min_width": null,
            "object_fit": null,
            "object_position": null,
            "order": null,
            "overflow": null,
            "overflow_x": null,
            "overflow_y": null,
            "padding": null,
            "right": null,
            "top": null,
            "visibility": null,
            "width": null
          }
        }
      }
    }
  },
  "nbformat": 4,
  "nbformat_minor": 0
}
